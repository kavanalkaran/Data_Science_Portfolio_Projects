{
 "cells": [
  {
   "cell_type": "code",
   "execution_count": 39,
   "id": "c8532171",
   "metadata": {},
   "outputs": [],
   "source": [
    "import numpy as np\n",
    "import pandas as pd\n",
    "import matplotlib.pyplot as plt\n",
    "import seaborn as sns"
   ]
  },
  {
   "cell_type": "code",
   "execution_count": 3,
   "id": "ea273668",
   "metadata": {},
   "outputs": [],
   "source": [
    "df = pd.read_csv(r\"C:\\Users\\user\\Downloads\\EVIndia.csv\")"
   ]
  },
  {
   "cell_type": "code",
   "execution_count": 4,
   "id": "5282074a",
   "metadata": {},
   "outputs": [
    {
     "data": {
      "text/html": [
       "<div>\n",
       "<style scoped>\n",
       "    .dataframe tbody tr th:only-of-type {\n",
       "        vertical-align: middle;\n",
       "    }\n",
       "\n",
       "    .dataframe tbody tr th {\n",
       "        vertical-align: top;\n",
       "    }\n",
       "\n",
       "    .dataframe thead th {\n",
       "        text-align: right;\n",
       "    }\n",
       "</style>\n",
       "<table border=\"1\" class=\"dataframe\">\n",
       "  <thead>\n",
       "    <tr style=\"text-align: right;\">\n",
       "      <th></th>\n",
       "      <th>Car</th>\n",
       "      <th>Style</th>\n",
       "      <th>Range</th>\n",
       "      <th>Transmission</th>\n",
       "      <th>VehicleType</th>\n",
       "      <th>PriceRange</th>\n",
       "      <th>Capacity</th>\n",
       "      <th>BootSpace</th>\n",
       "      <th>BaseModel</th>\n",
       "      <th>TopModel</th>\n",
       "    </tr>\n",
       "  </thead>\n",
       "  <tbody>\n",
       "    <tr>\n",
       "      <th>0</th>\n",
       "      <td>Tata Nexon EV</td>\n",
       "      <td>Compact SUV</td>\n",
       "      <td>312 Km/Full Charge</td>\n",
       "      <td>Automatic</td>\n",
       "      <td>Electric</td>\n",
       "      <td>₹ 13.99 - 17.4 L</td>\n",
       "      <td>5 Seater</td>\n",
       "      <td>350 L</td>\n",
       "      <td>XM</td>\n",
       "      <td>Dark XZ Plus LUX</td>\n",
       "    </tr>\n",
       "    <tr>\n",
       "      <th>1</th>\n",
       "      <td>Tata Tigor EV</td>\n",
       "      <td>Subcompact Sedan</td>\n",
       "      <td>306 Km/Full Charge</td>\n",
       "      <td>Automatic</td>\n",
       "      <td>Electric</td>\n",
       "      <td>₹ 12.49 - 13.64 L</td>\n",
       "      <td>5 Seater</td>\n",
       "      <td>316 L</td>\n",
       "      <td>XE</td>\n",
       "      <td>XZ Plus Dual Tone</td>\n",
       "    </tr>\n",
       "    <tr>\n",
       "      <th>2</th>\n",
       "      <td>Tata Nexon EV Max</td>\n",
       "      <td>Compact SUV</td>\n",
       "      <td>437 Km/Full Charge</td>\n",
       "      <td>Automatic</td>\n",
       "      <td>Electric</td>\n",
       "      <td>₹ 17.74 - 19.24 L</td>\n",
       "      <td>5 Seater</td>\n",
       "      <td>350 L</td>\n",
       "      <td>XZ Plus 3.3 kW</td>\n",
       "      <td>XZ Plus Lux 7.2 kW</td>\n",
       "    </tr>\n",
       "    <tr>\n",
       "      <th>3</th>\n",
       "      <td>MG ZS EV</td>\n",
       "      <td>Compact SUV</td>\n",
       "      <td>419 Km/Full Charge</td>\n",
       "      <td>Automatic</td>\n",
       "      <td>Electric</td>\n",
       "      <td>₹ 21.99 - 25.88 L</td>\n",
       "      <td>5 Seater</td>\n",
       "      <td>448 L</td>\n",
       "      <td>Excite</td>\n",
       "      <td>Exclusive</td>\n",
       "    </tr>\n",
       "    <tr>\n",
       "      <th>4</th>\n",
       "      <td>Hyundai Kona Electric</td>\n",
       "      <td>Compact SUV</td>\n",
       "      <td>452 Km/Full Charge</td>\n",
       "      <td>Automatic</td>\n",
       "      <td>Electric</td>\n",
       "      <td>₹ 23.79 - 23.98 L</td>\n",
       "      <td>5 Seater</td>\n",
       "      <td>na</td>\n",
       "      <td>Premium Dual Tone</td>\n",
       "      <td>HSE</td>\n",
       "    </tr>\n",
       "    <tr>\n",
       "      <th>5</th>\n",
       "      <td>Jaguar I-Pace</td>\n",
       "      <td>Premium Midsize Sedan</td>\n",
       "      <td>470 Km/Full Charge</td>\n",
       "      <td>Automatic</td>\n",
       "      <td>Electric</td>\n",
       "      <td>₹ 1.06 - 1.12 Cr</td>\n",
       "      <td>5 Seater</td>\n",
       "      <td>656 L</td>\n",
       "      <td>S</td>\n",
       "      <td>Sportback 55</td>\n",
       "    </tr>\n",
       "    <tr>\n",
       "      <th>6</th>\n",
       "      <td>Audi E-Tron GT</td>\n",
       "      <td>Premium Coupe</td>\n",
       "      <td>388 Km/Full Charge</td>\n",
       "      <td>Automatic</td>\n",
       "      <td>Electric</td>\n",
       "      <td>₹ 1.8 Cr</td>\n",
       "      <td>5 Seater</td>\n",
       "      <td>405 L</td>\n",
       "      <td>Quattro</td>\n",
       "      <td>na</td>\n",
       "    </tr>\n",
       "    <tr>\n",
       "      <th>7</th>\n",
       "      <td>BYD E6</td>\n",
       "      <td>Subcompact MPV</td>\n",
       "      <td>415 Km/Full Charge</td>\n",
       "      <td>Automatic</td>\n",
       "      <td>Electric</td>\n",
       "      <td>₹ 29.15 L</td>\n",
       "      <td>5 Seater</td>\n",
       "      <td>580 L</td>\n",
       "      <td>STD</td>\n",
       "      <td>na</td>\n",
       "    </tr>\n",
       "    <tr>\n",
       "      <th>8</th>\n",
       "      <td>Mercedes-Benz EQC</td>\n",
       "      <td>Compact SUV</td>\n",
       "      <td>471 Km/Full Charge</td>\n",
       "      <td>Automatic</td>\n",
       "      <td>Electric</td>\n",
       "      <td>₹ 1 Cr</td>\n",
       "      <td>5 Seater</td>\n",
       "      <td>na</td>\n",
       "      <td>na</td>\n",
       "      <td>na</td>\n",
       "    </tr>\n",
       "    <tr>\n",
       "      <th>9</th>\n",
       "      <td>BMW iX</td>\n",
       "      <td>Premium Fullsize SUV</td>\n",
       "      <td>425 Km/Full Charge</td>\n",
       "      <td>Automatic</td>\n",
       "      <td>Electric</td>\n",
       "      <td>₹ 1.16 Cr</td>\n",
       "      <td>5 Seater</td>\n",
       "      <td>na</td>\n",
       "      <td>na</td>\n",
       "      <td>na</td>\n",
       "    </tr>\n",
       "    <tr>\n",
       "      <th>10</th>\n",
       "      <td>Porsche Taycan</td>\n",
       "      <td>Premium Sports Sedan</td>\n",
       "      <td>na</td>\n",
       "      <td>Automatic</td>\n",
       "      <td>Electric</td>\n",
       "      <td>₹ 1.5 Cr</td>\n",
       "      <td>4 Seater</td>\n",
       "      <td>na</td>\n",
       "      <td>na</td>\n",
       "      <td>na</td>\n",
       "    </tr>\n",
       "    <tr>\n",
       "      <th>11</th>\n",
       "      <td>Audi E-Tron</td>\n",
       "      <td>Compact SUV</td>\n",
       "      <td>400 Km/Full Charge</td>\n",
       "      <td>Automatic</td>\n",
       "      <td>Electric</td>\n",
       "      <td>₹ 1.01 - 1.19 Cr</td>\n",
       "      <td>5 Seater</td>\n",
       "      <td>660 L</td>\n",
       "      <td>na</td>\n",
       "      <td>na</td>\n",
       "    </tr>\n",
       "  </tbody>\n",
       "</table>\n",
       "</div>"
      ],
      "text/plain": [
       "                      Car                  Style               Range  \\\n",
       "0           Tata Nexon EV            Compact SUV  312 Km/Full Charge   \n",
       "1           Tata Tigor EV       Subcompact Sedan  306 Km/Full Charge   \n",
       "2       Tata Nexon EV Max            Compact SUV  437 Km/Full Charge   \n",
       "3                MG ZS EV            Compact SUV  419 Km/Full Charge   \n",
       "4   Hyundai Kona Electric            Compact SUV  452 Km/Full Charge   \n",
       "5           Jaguar I-Pace  Premium Midsize Sedan  470 Km/Full Charge   \n",
       "6          Audi E-Tron GT          Premium Coupe  388 Km/Full Charge   \n",
       "7                  BYD E6         Subcompact MPV  415 Km/Full Charge   \n",
       "8       Mercedes-Benz EQC            Compact SUV  471 Km/Full Charge   \n",
       "9                  BMW iX   Premium Fullsize SUV  425 Km/Full Charge   \n",
       "10         Porsche Taycan   Premium Sports Sedan                  na   \n",
       "11            Audi E-Tron            Compact SUV  400 Km/Full Charge   \n",
       "\n",
       "   Transmission VehicleType         PriceRange   Capacity BootSpace  \\\n",
       "0     Automatic    Electric   ₹ 13.99 - 17.4 L  5 Seater      350 L   \n",
       "1     Automatic    Electric  ₹ 12.49 - 13.64 L  5 Seater      316 L   \n",
       "2     Automatic    Electric  ₹ 17.74 - 19.24 L  5 Seater      350 L   \n",
       "3     Automatic    Electric  ₹ 21.99 - 25.88 L  5 Seater      448 L   \n",
       "4     Automatic    Electric  ₹ 23.79 - 23.98 L  5 Seater         na   \n",
       "5     Automatic    Electric   ₹ 1.06 - 1.12 Cr  5 Seater      656 L   \n",
       "6     Automatic    Electric           ₹ 1.8 Cr  5 Seater      405 L   \n",
       "7     Automatic    Electric          ₹ 29.15 L  5 Seater      580 L   \n",
       "8     Automatic    Electric             ₹ 1 Cr  5 Seater         na   \n",
       "9     Automatic    Electric          ₹ 1.16 Cr  5 Seater         na   \n",
       "10    Automatic    Electric           ₹ 1.5 Cr  4 Seater         na   \n",
       "11    Automatic    Electric   ₹ 1.01 - 1.19 Cr  5 Seater      660 L   \n",
       "\n",
       "             BaseModel             TopModel  \n",
       "0                  XM     Dark XZ Plus LUX   \n",
       "1                  XE    XZ Plus Dual Tone   \n",
       "2      XZ Plus 3.3 kW   XZ Plus Lux 7.2 kW   \n",
       "3              Excite            Exclusive   \n",
       "4   Premium Dual Tone                  HSE   \n",
       "5                   S         Sportback 55   \n",
       "6             Quattro                    na  \n",
       "7                 STD                    na  \n",
       "8                   na                   na  \n",
       "9                   na                   na  \n",
       "10                  na                   na  \n",
       "11                  na                   na  "
      ]
     },
     "execution_count": 4,
     "metadata": {},
     "output_type": "execute_result"
    }
   ],
   "source": [
    "df"
   ]
  },
  {
   "cell_type": "code",
   "execution_count": 6,
   "id": "8910ce73",
   "metadata": {},
   "outputs": [
    {
     "name": "stderr",
     "output_type": "stream",
     "text": [
      "C:\\Users\\user\\AppData\\Local\\Temp\\ipykernel_15264\\4264669359.py:1: FutureWarning: In a future version of pandas all arguments of StringMethods.split except for the argument 'pat' will be keyword-only.\n",
      "  df['Manufacturer']= df.Car.str.split(' ',1,True)[0]\n"
     ]
    }
   ],
   "source": [
    "df['Manufacturer']= df.Car.str.split(' ',1,True)[0]"
   ]
  },
  {
   "cell_type": "code",
   "execution_count": 7,
   "id": "232e43a4",
   "metadata": {},
   "outputs": [
    {
     "data": {
      "text/html": [
       "<div>\n",
       "<style scoped>\n",
       "    .dataframe tbody tr th:only-of-type {\n",
       "        vertical-align: middle;\n",
       "    }\n",
       "\n",
       "    .dataframe tbody tr th {\n",
       "        vertical-align: top;\n",
       "    }\n",
       "\n",
       "    .dataframe thead th {\n",
       "        text-align: right;\n",
       "    }\n",
       "</style>\n",
       "<table border=\"1\" class=\"dataframe\">\n",
       "  <thead>\n",
       "    <tr style=\"text-align: right;\">\n",
       "      <th></th>\n",
       "      <th>Car</th>\n",
       "      <th>Style</th>\n",
       "      <th>Range</th>\n",
       "      <th>Transmission</th>\n",
       "      <th>VehicleType</th>\n",
       "      <th>PriceRange</th>\n",
       "      <th>Capacity</th>\n",
       "      <th>BootSpace</th>\n",
       "      <th>BaseModel</th>\n",
       "      <th>TopModel</th>\n",
       "      <th>Manufacturer</th>\n",
       "    </tr>\n",
       "  </thead>\n",
       "  <tbody>\n",
       "    <tr>\n",
       "      <th>0</th>\n",
       "      <td>Tata Nexon EV</td>\n",
       "      <td>Compact SUV</td>\n",
       "      <td>312 Km/Full Charge</td>\n",
       "      <td>Automatic</td>\n",
       "      <td>Electric</td>\n",
       "      <td>₹ 13.99 - 17.4 L</td>\n",
       "      <td>5 Seater</td>\n",
       "      <td>350 L</td>\n",
       "      <td>XM</td>\n",
       "      <td>Dark XZ Plus LUX</td>\n",
       "      <td>Tata</td>\n",
       "    </tr>\n",
       "    <tr>\n",
       "      <th>1</th>\n",
       "      <td>Tata Tigor EV</td>\n",
       "      <td>Subcompact Sedan</td>\n",
       "      <td>306 Km/Full Charge</td>\n",
       "      <td>Automatic</td>\n",
       "      <td>Electric</td>\n",
       "      <td>₹ 12.49 - 13.64 L</td>\n",
       "      <td>5 Seater</td>\n",
       "      <td>316 L</td>\n",
       "      <td>XE</td>\n",
       "      <td>XZ Plus Dual Tone</td>\n",
       "      <td>Tata</td>\n",
       "    </tr>\n",
       "    <tr>\n",
       "      <th>2</th>\n",
       "      <td>Tata Nexon EV Max</td>\n",
       "      <td>Compact SUV</td>\n",
       "      <td>437 Km/Full Charge</td>\n",
       "      <td>Automatic</td>\n",
       "      <td>Electric</td>\n",
       "      <td>₹ 17.74 - 19.24 L</td>\n",
       "      <td>5 Seater</td>\n",
       "      <td>350 L</td>\n",
       "      <td>XZ Plus 3.3 kW</td>\n",
       "      <td>XZ Plus Lux 7.2 kW</td>\n",
       "      <td>Tata</td>\n",
       "    </tr>\n",
       "    <tr>\n",
       "      <th>3</th>\n",
       "      <td>MG ZS EV</td>\n",
       "      <td>Compact SUV</td>\n",
       "      <td>419 Km/Full Charge</td>\n",
       "      <td>Automatic</td>\n",
       "      <td>Electric</td>\n",
       "      <td>₹ 21.99 - 25.88 L</td>\n",
       "      <td>5 Seater</td>\n",
       "      <td>448 L</td>\n",
       "      <td>Excite</td>\n",
       "      <td>Exclusive</td>\n",
       "      <td>MG</td>\n",
       "    </tr>\n",
       "    <tr>\n",
       "      <th>4</th>\n",
       "      <td>Hyundai Kona Electric</td>\n",
       "      <td>Compact SUV</td>\n",
       "      <td>452 Km/Full Charge</td>\n",
       "      <td>Automatic</td>\n",
       "      <td>Electric</td>\n",
       "      <td>₹ 23.79 - 23.98 L</td>\n",
       "      <td>5 Seater</td>\n",
       "      <td>na</td>\n",
       "      <td>Premium Dual Tone</td>\n",
       "      <td>HSE</td>\n",
       "      <td>Hyundai</td>\n",
       "    </tr>\n",
       "    <tr>\n",
       "      <th>5</th>\n",
       "      <td>Jaguar I-Pace</td>\n",
       "      <td>Premium Midsize Sedan</td>\n",
       "      <td>470 Km/Full Charge</td>\n",
       "      <td>Automatic</td>\n",
       "      <td>Electric</td>\n",
       "      <td>₹ 1.06 - 1.12 Cr</td>\n",
       "      <td>5 Seater</td>\n",
       "      <td>656 L</td>\n",
       "      <td>S</td>\n",
       "      <td>Sportback 55</td>\n",
       "      <td>Jaguar</td>\n",
       "    </tr>\n",
       "    <tr>\n",
       "      <th>6</th>\n",
       "      <td>Audi E-Tron GT</td>\n",
       "      <td>Premium Coupe</td>\n",
       "      <td>388 Km/Full Charge</td>\n",
       "      <td>Automatic</td>\n",
       "      <td>Electric</td>\n",
       "      <td>₹ 1.8 Cr</td>\n",
       "      <td>5 Seater</td>\n",
       "      <td>405 L</td>\n",
       "      <td>Quattro</td>\n",
       "      <td>na</td>\n",
       "      <td>Audi</td>\n",
       "    </tr>\n",
       "    <tr>\n",
       "      <th>7</th>\n",
       "      <td>BYD E6</td>\n",
       "      <td>Subcompact MPV</td>\n",
       "      <td>415 Km/Full Charge</td>\n",
       "      <td>Automatic</td>\n",
       "      <td>Electric</td>\n",
       "      <td>₹ 29.15 L</td>\n",
       "      <td>5 Seater</td>\n",
       "      <td>580 L</td>\n",
       "      <td>STD</td>\n",
       "      <td>na</td>\n",
       "      <td>BYD</td>\n",
       "    </tr>\n",
       "    <tr>\n",
       "      <th>8</th>\n",
       "      <td>Mercedes-Benz EQC</td>\n",
       "      <td>Compact SUV</td>\n",
       "      <td>471 Km/Full Charge</td>\n",
       "      <td>Automatic</td>\n",
       "      <td>Electric</td>\n",
       "      <td>₹ 1 Cr</td>\n",
       "      <td>5 Seater</td>\n",
       "      <td>na</td>\n",
       "      <td>na</td>\n",
       "      <td>na</td>\n",
       "      <td>Mercedes-Benz</td>\n",
       "    </tr>\n",
       "    <tr>\n",
       "      <th>9</th>\n",
       "      <td>BMW iX</td>\n",
       "      <td>Premium Fullsize SUV</td>\n",
       "      <td>425 Km/Full Charge</td>\n",
       "      <td>Automatic</td>\n",
       "      <td>Electric</td>\n",
       "      <td>₹ 1.16 Cr</td>\n",
       "      <td>5 Seater</td>\n",
       "      <td>na</td>\n",
       "      <td>na</td>\n",
       "      <td>na</td>\n",
       "      <td>BMW</td>\n",
       "    </tr>\n",
       "    <tr>\n",
       "      <th>10</th>\n",
       "      <td>Porsche Taycan</td>\n",
       "      <td>Premium Sports Sedan</td>\n",
       "      <td>na</td>\n",
       "      <td>Automatic</td>\n",
       "      <td>Electric</td>\n",
       "      <td>₹ 1.5 Cr</td>\n",
       "      <td>4 Seater</td>\n",
       "      <td>na</td>\n",
       "      <td>na</td>\n",
       "      <td>na</td>\n",
       "      <td>Porsche</td>\n",
       "    </tr>\n",
       "    <tr>\n",
       "      <th>11</th>\n",
       "      <td>Audi E-Tron</td>\n",
       "      <td>Compact SUV</td>\n",
       "      <td>400 Km/Full Charge</td>\n",
       "      <td>Automatic</td>\n",
       "      <td>Electric</td>\n",
       "      <td>₹ 1.01 - 1.19 Cr</td>\n",
       "      <td>5 Seater</td>\n",
       "      <td>660 L</td>\n",
       "      <td>na</td>\n",
       "      <td>na</td>\n",
       "      <td>Audi</td>\n",
       "    </tr>\n",
       "  </tbody>\n",
       "</table>\n",
       "</div>"
      ],
      "text/plain": [
       "                      Car                  Style               Range  \\\n",
       "0           Tata Nexon EV            Compact SUV  312 Km/Full Charge   \n",
       "1           Tata Tigor EV       Subcompact Sedan  306 Km/Full Charge   \n",
       "2       Tata Nexon EV Max            Compact SUV  437 Km/Full Charge   \n",
       "3                MG ZS EV            Compact SUV  419 Km/Full Charge   \n",
       "4   Hyundai Kona Electric            Compact SUV  452 Km/Full Charge   \n",
       "5           Jaguar I-Pace  Premium Midsize Sedan  470 Km/Full Charge   \n",
       "6          Audi E-Tron GT          Premium Coupe  388 Km/Full Charge   \n",
       "7                  BYD E6         Subcompact MPV  415 Km/Full Charge   \n",
       "8       Mercedes-Benz EQC            Compact SUV  471 Km/Full Charge   \n",
       "9                  BMW iX   Premium Fullsize SUV  425 Km/Full Charge   \n",
       "10         Porsche Taycan   Premium Sports Sedan                  na   \n",
       "11            Audi E-Tron            Compact SUV  400 Km/Full Charge   \n",
       "\n",
       "   Transmission VehicleType         PriceRange   Capacity BootSpace  \\\n",
       "0     Automatic    Electric   ₹ 13.99 - 17.4 L  5 Seater      350 L   \n",
       "1     Automatic    Electric  ₹ 12.49 - 13.64 L  5 Seater      316 L   \n",
       "2     Automatic    Electric  ₹ 17.74 - 19.24 L  5 Seater      350 L   \n",
       "3     Automatic    Electric  ₹ 21.99 - 25.88 L  5 Seater      448 L   \n",
       "4     Automatic    Electric  ₹ 23.79 - 23.98 L  5 Seater         na   \n",
       "5     Automatic    Electric   ₹ 1.06 - 1.12 Cr  5 Seater      656 L   \n",
       "6     Automatic    Electric           ₹ 1.8 Cr  5 Seater      405 L   \n",
       "7     Automatic    Electric          ₹ 29.15 L  5 Seater      580 L   \n",
       "8     Automatic    Electric             ₹ 1 Cr  5 Seater         na   \n",
       "9     Automatic    Electric          ₹ 1.16 Cr  5 Seater         na   \n",
       "10    Automatic    Electric           ₹ 1.5 Cr  4 Seater         na   \n",
       "11    Automatic    Electric   ₹ 1.01 - 1.19 Cr  5 Seater      660 L   \n",
       "\n",
       "             BaseModel             TopModel   Manufacturer  \n",
       "0                  XM     Dark XZ Plus LUX            Tata  \n",
       "1                  XE    XZ Plus Dual Tone            Tata  \n",
       "2      XZ Plus 3.3 kW   XZ Plus Lux 7.2 kW            Tata  \n",
       "3              Excite            Exclusive              MG  \n",
       "4   Premium Dual Tone                  HSE         Hyundai  \n",
       "5                   S         Sportback 55          Jaguar  \n",
       "6             Quattro                    na           Audi  \n",
       "7                 STD                    na            BYD  \n",
       "8                   na                   na  Mercedes-Benz  \n",
       "9                   na                   na            BMW  \n",
       "10                  na                   na        Porsche  \n",
       "11                  na                   na           Audi  "
      ]
     },
     "execution_count": 7,
     "metadata": {},
     "output_type": "execute_result"
    }
   ],
   "source": [
    "df"
   ]
  },
  {
   "cell_type": "code",
   "execution_count": 12,
   "id": "22b45ee9",
   "metadata": {},
   "outputs": [],
   "source": [
    "Range=[]\n",
    "for a in df['Range']:\n",
    "    Range+=[int(a.replace('na','0').replace('Km/Full Charge',''))]\n",
    "df['Range']=Range"
   ]
  },
  {
   "cell_type": "code",
   "execution_count": 29,
   "id": "6083b204",
   "metadata": {
    "scrolled": false
   },
   "outputs": [
    {
     "data": {
      "text/html": [
       "<div>\n",
       "<style scoped>\n",
       "    .dataframe tbody tr th:only-of-type {\n",
       "        vertical-align: middle;\n",
       "    }\n",
       "\n",
       "    .dataframe tbody tr th {\n",
       "        vertical-align: top;\n",
       "    }\n",
       "\n",
       "    .dataframe thead th {\n",
       "        text-align: right;\n",
       "    }\n",
       "</style>\n",
       "<table border=\"1\" class=\"dataframe\">\n",
       "  <thead>\n",
       "    <tr style=\"text-align: right;\">\n",
       "      <th></th>\n",
       "      <th>Car</th>\n",
       "      <th>Style</th>\n",
       "      <th>Range</th>\n",
       "      <th>Transmission</th>\n",
       "      <th>VehicleType</th>\n",
       "      <th>PriceRange</th>\n",
       "      <th>Capacity</th>\n",
       "      <th>BootSpace</th>\n",
       "      <th>BaseModel</th>\n",
       "      <th>TopModel</th>\n",
       "      <th>Manufacturer</th>\n",
       "    </tr>\n",
       "  </thead>\n",
       "  <tbody>\n",
       "    <tr>\n",
       "      <th>0</th>\n",
       "      <td>Tata Nexon EV</td>\n",
       "      <td>Compact SUV</td>\n",
       "      <td>312</td>\n",
       "      <td>Automatic</td>\n",
       "      <td>Electric</td>\n",
       "      <td>13.99 - 17.4</td>\n",
       "      <td>5</td>\n",
       "      <td>350</td>\n",
       "      <td>XM</td>\n",
       "      <td>Dark XZ Plus LUX</td>\n",
       "      <td>Tata</td>\n",
       "    </tr>\n",
       "    <tr>\n",
       "      <th>1</th>\n",
       "      <td>Tata Tigor EV</td>\n",
       "      <td>Subcompact Sedan</td>\n",
       "      <td>306</td>\n",
       "      <td>Automatic</td>\n",
       "      <td>Electric</td>\n",
       "      <td>12.49 - 13.64</td>\n",
       "      <td>5</td>\n",
       "      <td>316</td>\n",
       "      <td>XE</td>\n",
       "      <td>XZ Plus Dual Tone</td>\n",
       "      <td>Tata</td>\n",
       "    </tr>\n",
       "    <tr>\n",
       "      <th>2</th>\n",
       "      <td>Tata Nexon EV Max</td>\n",
       "      <td>Compact SUV</td>\n",
       "      <td>437</td>\n",
       "      <td>Automatic</td>\n",
       "      <td>Electric</td>\n",
       "      <td>17.74 - 19.24</td>\n",
       "      <td>5</td>\n",
       "      <td>350</td>\n",
       "      <td>XZ Plus 3.3 kW</td>\n",
       "      <td>XZ Plus Lux 7.2 kW</td>\n",
       "      <td>Tata</td>\n",
       "    </tr>\n",
       "    <tr>\n",
       "      <th>3</th>\n",
       "      <td>MG ZS EV</td>\n",
       "      <td>Compact SUV</td>\n",
       "      <td>419</td>\n",
       "      <td>Automatic</td>\n",
       "      <td>Electric</td>\n",
       "      <td>21.99 - 25.88</td>\n",
       "      <td>5</td>\n",
       "      <td>448</td>\n",
       "      <td>Excite</td>\n",
       "      <td>Exclusive</td>\n",
       "      <td>MG</td>\n",
       "    </tr>\n",
       "    <tr>\n",
       "      <th>4</th>\n",
       "      <td>Hyundai Kona Electric</td>\n",
       "      <td>Compact SUV</td>\n",
       "      <td>452</td>\n",
       "      <td>Automatic</td>\n",
       "      <td>Electric</td>\n",
       "      <td>23.79 - 23.98</td>\n",
       "      <td>5</td>\n",
       "      <td>0</td>\n",
       "      <td>Premium Dual Tone</td>\n",
       "      <td>HSE</td>\n",
       "      <td>Hyundai</td>\n",
       "    </tr>\n",
       "    <tr>\n",
       "      <th>5</th>\n",
       "      <td>Jaguar I-Pace</td>\n",
       "      <td>Premium Midsize Sedan</td>\n",
       "      <td>470</td>\n",
       "      <td>Automatic</td>\n",
       "      <td>Electric</td>\n",
       "      <td>1.06 - 1.12</td>\n",
       "      <td>5</td>\n",
       "      <td>656</td>\n",
       "      <td>S</td>\n",
       "      <td>Sportback 55</td>\n",
       "      <td>Jaguar</td>\n",
       "    </tr>\n",
       "    <tr>\n",
       "      <th>6</th>\n",
       "      <td>Audi E-Tron GT</td>\n",
       "      <td>Premium Coupe</td>\n",
       "      <td>388</td>\n",
       "      <td>Automatic</td>\n",
       "      <td>Electric</td>\n",
       "      <td>1.8</td>\n",
       "      <td>5</td>\n",
       "      <td>405</td>\n",
       "      <td>Quattro</td>\n",
       "      <td>na</td>\n",
       "      <td>Audi</td>\n",
       "    </tr>\n",
       "    <tr>\n",
       "      <th>7</th>\n",
       "      <td>BYD E6</td>\n",
       "      <td>Subcompact MPV</td>\n",
       "      <td>415</td>\n",
       "      <td>Automatic</td>\n",
       "      <td>Electric</td>\n",
       "      <td>29.15</td>\n",
       "      <td>5</td>\n",
       "      <td>580</td>\n",
       "      <td>STD</td>\n",
       "      <td>na</td>\n",
       "      <td>BYD</td>\n",
       "    </tr>\n",
       "    <tr>\n",
       "      <th>8</th>\n",
       "      <td>Mercedes-Benz EQC</td>\n",
       "      <td>Compact SUV</td>\n",
       "      <td>471</td>\n",
       "      <td>Automatic</td>\n",
       "      <td>Electric</td>\n",
       "      <td>1</td>\n",
       "      <td>5</td>\n",
       "      <td>0</td>\n",
       "      <td>na</td>\n",
       "      <td>na</td>\n",
       "      <td>Mercedes-Benz</td>\n",
       "    </tr>\n",
       "    <tr>\n",
       "      <th>9</th>\n",
       "      <td>BMW iX</td>\n",
       "      <td>Premium Fullsize SUV</td>\n",
       "      <td>425</td>\n",
       "      <td>Automatic</td>\n",
       "      <td>Electric</td>\n",
       "      <td>1.16</td>\n",
       "      <td>5</td>\n",
       "      <td>0</td>\n",
       "      <td>na</td>\n",
       "      <td>na</td>\n",
       "      <td>BMW</td>\n",
       "    </tr>\n",
       "    <tr>\n",
       "      <th>10</th>\n",
       "      <td>Porsche Taycan</td>\n",
       "      <td>Premium Sports Sedan</td>\n",
       "      <td>0</td>\n",
       "      <td>Automatic</td>\n",
       "      <td>Electric</td>\n",
       "      <td>1.5</td>\n",
       "      <td>4</td>\n",
       "      <td>0</td>\n",
       "      <td>na</td>\n",
       "      <td>na</td>\n",
       "      <td>Porsche</td>\n",
       "    </tr>\n",
       "    <tr>\n",
       "      <th>11</th>\n",
       "      <td>Audi E-Tron</td>\n",
       "      <td>Compact SUV</td>\n",
       "      <td>400</td>\n",
       "      <td>Automatic</td>\n",
       "      <td>Electric</td>\n",
       "      <td>1.01 - 1.19</td>\n",
       "      <td>5</td>\n",
       "      <td>660</td>\n",
       "      <td>na</td>\n",
       "      <td>na</td>\n",
       "      <td>Audi</td>\n",
       "    </tr>\n",
       "  </tbody>\n",
       "</table>\n",
       "</div>"
      ],
      "text/plain": [
       "                      Car                  Style  Range Transmission  \\\n",
       "0           Tata Nexon EV            Compact SUV    312    Automatic   \n",
       "1           Tata Tigor EV       Subcompact Sedan    306    Automatic   \n",
       "2       Tata Nexon EV Max            Compact SUV    437    Automatic   \n",
       "3                MG ZS EV            Compact SUV    419    Automatic   \n",
       "4   Hyundai Kona Electric            Compact SUV    452    Automatic   \n",
       "5           Jaguar I-Pace  Premium Midsize Sedan    470    Automatic   \n",
       "6          Audi E-Tron GT          Premium Coupe    388    Automatic   \n",
       "7                  BYD E6         Subcompact MPV    415    Automatic   \n",
       "8       Mercedes-Benz EQC            Compact SUV    471    Automatic   \n",
       "9                  BMW iX   Premium Fullsize SUV    425    Automatic   \n",
       "10         Porsche Taycan   Premium Sports Sedan      0    Automatic   \n",
       "11            Audi E-Tron            Compact SUV    400    Automatic   \n",
       "\n",
       "   VehicleType       PriceRange  Capacity  BootSpace           BaseModel  \\\n",
       "0     Electric    13.99 - 17.4          5        350                 XM    \n",
       "1     Electric   12.49 - 13.64          5        316                 XE    \n",
       "2     Electric   17.74 - 19.24          5        350     XZ Plus 3.3 kW    \n",
       "3     Electric   21.99 - 25.88          5        448             Excite    \n",
       "4     Electric   23.79 - 23.98          5          0  Premium Dual Tone    \n",
       "5     Electric     1.06 - 1.12          5        656                  S    \n",
       "6     Electric             1.8          5        405            Quattro    \n",
       "7     Electric           29.15          5        580                STD    \n",
       "8     Electric               1          5          0                  na   \n",
       "9     Electric            1.16          5          0                  na   \n",
       "10    Electric             1.5          4          0                  na   \n",
       "11    Electric     1.01 - 1.19          5        660                  na   \n",
       "\n",
       "               TopModel   Manufacturer  \n",
       "0     Dark XZ Plus LUX            Tata  \n",
       "1    XZ Plus Dual Tone            Tata  \n",
       "2   XZ Plus Lux 7.2 kW            Tata  \n",
       "3            Exclusive              MG  \n",
       "4                  HSE         Hyundai  \n",
       "5         Sportback 55          Jaguar  \n",
       "6                    na           Audi  \n",
       "7                    na            BYD  \n",
       "8                    na  Mercedes-Benz  \n",
       "9                    na            BMW  \n",
       "10                   na        Porsche  \n",
       "11                   na           Audi  "
      ]
     },
     "execution_count": 29,
     "metadata": {},
     "output_type": "execute_result"
    }
   ],
   "source": [
    "df"
   ]
  },
  {
   "cell_type": "code",
   "execution_count": 20,
   "id": "2d0ef6b9",
   "metadata": {},
   "outputs": [],
   "source": [
    "Capacity=[]\n",
    "for b in df['Capacity']:\n",
    "    Capacity+=[int(b.replace('Seater',''))]\n",
    "df['Capacity']=Capacity"
   ]
  },
  {
   "cell_type": "code",
   "execution_count": 22,
   "id": "09841457",
   "metadata": {},
   "outputs": [],
   "source": [
    "BootSpace=[]\n",
    "for c in df['BootSpace']:\n",
    "    BootSpace+=[int(c.replace('L','').replace('na','0'))]\n",
    "df['BootSpace']=BootSpace"
   ]
  },
  {
   "cell_type": "code",
   "execution_count": 25,
   "id": "17bbef9b",
   "metadata": {},
   "outputs": [],
   "source": [
    "PriceRange=[]\n",
    "for d in df['PriceRange']:\n",
    "    PriceRange+=[str(d.replace('₹','').replace('Cr','').replace('L',''))]\n",
    "df['PriceRange']=PriceRange"
   ]
  },
  {
   "cell_type": "code",
   "execution_count": 36,
   "id": "d80770f8",
   "metadata": {
    "scrolled": true
   },
   "outputs": [
    {
     "name": "stdout",
     "output_type": "stream",
     "text": [
      "<class 'pandas.core.frame.DataFrame'>\n",
      "RangeIndex: 12 entries, 0 to 11\n",
      "Data columns (total 11 columns):\n",
      " #   Column        Non-Null Count  Dtype \n",
      "---  ------        --------------  ----- \n",
      " 0   Car           12 non-null     object\n",
      " 1   Style         12 non-null     object\n",
      " 2   Range         12 non-null     int64 \n",
      " 3   Transmission  12 non-null     object\n",
      " 4   VehicleType   12 non-null     object\n",
      " 5   PriceRange    12 non-null     object\n",
      " 6   Capacity      12 non-null     int64 \n",
      " 7   BootSpace     12 non-null     int64 \n",
      " 8   BaseModel     12 non-null     object\n",
      " 9   TopModel      12 non-null     object\n",
      " 10  Manufacturer  12 non-null     object\n",
      "dtypes: int64(3), object(8)\n",
      "memory usage: 1.2+ KB\n"
     ]
    }
   ],
   "source": [
    "df.info()"
   ]
  },
  {
   "cell_type": "code",
   "execution_count": 37,
   "id": "03e1af59",
   "metadata": {},
   "outputs": [
    {
     "name": "stderr",
     "output_type": "stream",
     "text": [
      "C:\\Users\\user\\AppData\\Local\\Temp\\ipykernel_15264\\1134722465.py:1: FutureWarning: The default value of numeric_only in DataFrame.corr is deprecated. In a future version, it will default to False. Select only valid columns or specify the value of numeric_only to silence this warning.\n",
      "  df.corr()\n"
     ]
    },
    {
     "data": {
      "text/html": [
       "<div>\n",
       "<style scoped>\n",
       "    .dataframe tbody tr th:only-of-type {\n",
       "        vertical-align: middle;\n",
       "    }\n",
       "\n",
       "    .dataframe tbody tr th {\n",
       "        vertical-align: top;\n",
       "    }\n",
       "\n",
       "    .dataframe thead th {\n",
       "        text-align: right;\n",
       "    }\n",
       "</style>\n",
       "<table border=\"1\" class=\"dataframe\">\n",
       "  <thead>\n",
       "    <tr style=\"text-align: right;\">\n",
       "      <th></th>\n",
       "      <th>Range</th>\n",
       "      <th>Capacity</th>\n",
       "      <th>BootSpace</th>\n",
       "    </tr>\n",
       "  </thead>\n",
       "  <tbody>\n",
       "    <tr>\n",
       "      <th>Range</th>\n",
       "      <td>1.000000</td>\n",
       "      <td>0.911594</td>\n",
       "      <td>0.290063</td>\n",
       "    </tr>\n",
       "    <tr>\n",
       "      <th>Capacity</th>\n",
       "      <td>0.911594</td>\n",
       "      <td>1.000000</td>\n",
       "      <td>0.383374</td>\n",
       "    </tr>\n",
       "    <tr>\n",
       "      <th>BootSpace</th>\n",
       "      <td>0.290063</td>\n",
       "      <td>0.383374</td>\n",
       "      <td>1.000000</td>\n",
       "    </tr>\n",
       "  </tbody>\n",
       "</table>\n",
       "</div>"
      ],
      "text/plain": [
       "              Range  Capacity  BootSpace\n",
       "Range      1.000000  0.911594   0.290063\n",
       "Capacity   0.911594  1.000000   0.383374\n",
       "BootSpace  0.290063  0.383374   1.000000"
      ]
     },
     "execution_count": 37,
     "metadata": {},
     "output_type": "execute_result"
    }
   ],
   "source": [
    "df.corr()"
   ]
  },
  {
   "cell_type": "code",
   "execution_count": 46,
   "id": "ac416c8c",
   "metadata": {},
   "outputs": [
    {
     "name": "stderr",
     "output_type": "stream",
     "text": [
      "C:\\Users\\user\\AppData\\Local\\Temp\\ipykernel_15264\\3789453644.py:2: FutureWarning: The default value of numeric_only in DataFrame.corr is deprecated. In a future version, it will default to False. Select only valid columns or specify the value of numeric_only to silence this warning.\n",
      "  sns.heatmap(df.corr(),annot=True)\n"
     ]
    },
    {
     "data": {
      "text/plain": [
       "<Axes: >"
      ]
     },
     "execution_count": 46,
     "metadata": {},
     "output_type": "execute_result"
    },
    {
     "data": {
      "image/png": "[encoded data removed]",
      "text/plain": [
       "<Figure size 400x400 with 2 Axes>"
      ]
     },
     "metadata": {},
     "output_type": "display_data"
    }
   ],
   "source": [
    "plt.figure(figsize=(4,4))\n",
    "sns.heatmap(df.corr(),annot=True)"
   ]
  },
  {
   "cell_type": "code",
   "execution_count": 48,
   "id": "a8860e9d",
   "metadata": {},
   "outputs": [
    {
     "data": {
      "text/plain": [
       "<Axes: ylabel='count'>"
      ]
     },
     "execution_count": 48,
     "metadata": {},
     "output_type": "execute_result"
    },
    {
     "data": {
      "image/png": "[encoded data removed]",
      "text/plain": [
       "<Figure size 640x480 with 1 Axes>"
      ]
     },
     "metadata": {},
     "output_type": "display_data"
    }
   ],
   "source": [
    "sns.countplot(x=Capacity,data=df)"
   ]
  },
  {
   "cell_type": "code",
   "execution_count": 50,
   "id": "357995ee",
   "metadata": {},
   "outputs": [
    {
     "data": {
      "text/plain": [
       "<Axes: xlabel='count'>"
      ]
     },
     "execution_count": 50,
     "metadata": {},
     "output_type": "execute_result"
    },
    {
     "data": {
      "image/png": "[encoded data removed]",
      "text/plain": [
       "<Figure size 640x480 with 1 Axes>"
      ]
     },
     "metadata": {},
     "output_type": "display_data"
    }
   ],
   "source": [
    "sns.countplot(y=BootSpace,data=df)"
   ]
  },
  {
   "cell_type": "code",
   "execution_count": 58,
   "id": "6f05d6e0",
   "metadata": {},
   "outputs": [
    {
     "data": {
      "text/plain": [
       "<Axes: xlabel='count'>"
      ]
     },
     "execution_count": 58,
     "metadata": {},
     "output_type": "execute_result"
    },
    {
     "data": {
      "image/png": "[encoded data removed]",
      "text/plain": [
       "<Figure size 640x480 with 1 Axes>"
      ]
     },
     "metadata": {},
     "output_type": "display_data"
    }
   ],
   "source": [
    "sns.countplot(y=BootSpace,hue=Range,data=df)"
   ]
  },
  {
   "cell_type": "code",
   "execution_count": 61,
   "id": "692cb6e3",
   "metadata": {},
   "outputs": [
    {
     "data": {
      "text/plain": [
       "<Axes: ylabel='count'>"
      ]
     },
     "execution_count": 61,
     "metadata": {},
     "output_type": "execute_result"
    },
    {
     "data": {
      "image/png": "[encoded data removed]",
      "text/plain": [
       "<Figure size 640x480 with 1 Axes>"
      ]
     },
     "metadata": {},
     "output_type": "display_data"
    }
   ],
   "source": [
    "sns.countplot(x=BootSpace,hue=Capacity,data=df)"
   ]
  },
  {
   "cell_type": "code",
   "execution_count": 82,
   "id": "3114534d",
   "metadata": {},
   "outputs": [
    {
     "data": {
      "text/plain": [
       "<seaborn.axisgrid.FacetGrid at 0x1f37617abc0>"
      ]
     },
     "execution_count": 82,
     "metadata": {},
     "output_type": "execute_result"
    },
    {
     "data": {
      "image/png": "[encoded data removed]",
      "text/plain": [
       "<Figure size 576.625x500 with 1 Axes>"
      ]
     },
     "metadata": {},
     "output_type": "display_data"
    }
   ],
   "source": [
    "sns.relplot(x=\"BootSpace\",y=\"Manufacturer\",height=5,hue=\"Range\",data=df)"
   ]
  },
  {
   "cell_type": "code",
   "execution_count": 97,
   "id": "7c5a7569",
   "metadata": {},
   "outputs": [
    {
     "data": {
      "text/plain": [
       "<seaborn.axisgrid.FacetGrid at 0x1f379e946d0>"
      ]
     },
     "execution_count": 97,
     "metadata": {},
     "output_type": "execute_result"
    },
    {
     "data": {
      "image/png": "[encoded data removed]",
      "text/plain": [
       "<Figure size 576.625x500 with 1 Axes>"
      ]
     },
     "metadata": {},
     "output_type": "display_data"
    }
   ],
   "source": [
    "sns.relplot(x=\"BootSpace\",y=\"Manufacturer\",size=\"Range\",height=5,sizes=(10,30),data=df)"
   ]
  },
  {
   "cell_type": "code",
   "execution_count": 106,
   "id": "8685ec31",
   "metadata": {},
   "outputs": [
    {
     "data": {
      "text/plain": [
       "<seaborn.axisgrid.FacetGrid at 0x1f37bef45b0>"
      ]
     },
     "execution_count": 106,
     "metadata": {},
     "output_type": "execute_result"
    },
    {
     "data": {
      "image/png": "[encoded data removed]",
      "text/plain": [
       "<Figure size 956.625x880 with 1 Axes>"
      ]
     },
     "metadata": {},
     "output_type": "display_data"
    }
   ],
   "source": [
    "sns.relplot(y=\"Style\",x=\"Manufacturer\",height=8.8,hue=\"Range\",data=df)"
   ]
  },
  {
   "cell_type": "code",
   "execution_count": 117,
   "id": "a0f90556",
   "metadata": {},
   "outputs": [
    {
     "ename": "ValueError",
     "evalue": "`kind` must be one of ['scatter', 'hist', 'hex', 'kde', 'reg', 'resid'], but 'cir' was passed.",
     "output_type": "error",
     "traceback": [
      "\u001b[1;31m---------------------------------------------------------------------------\u001b[0m",
      "\u001b[1;31mValueError\u001b[0m                                Traceback (most recent call last)",
      "Cell \u001b[1;32mIn[117], line 1\u001b[0m\n\u001b[1;32m----> 1\u001b[0m \u001b[43msns\u001b[49m\u001b[38;5;241;43m.\u001b[39;49m\u001b[43mjointplot\u001b[49m\u001b[43m(\u001b[49m\u001b[43my\u001b[49m\u001b[38;5;241;43m=\u001b[39;49m\u001b[43mdf\u001b[49m\u001b[43m[\u001b[49m\u001b[38;5;124;43m\"\u001b[39;49m\u001b[38;5;124;43mCar\u001b[39;49m\u001b[38;5;124;43m\"\u001b[39;49m\u001b[43m]\u001b[49m\u001b[43m,\u001b[49m\u001b[43m \u001b[49m\u001b[43mx\u001b[49m\u001b[38;5;241;43m=\u001b[39;49m\u001b[43mdf\u001b[49m\u001b[43m[\u001b[49m\u001b[38;5;124;43m\"\u001b[39;49m\u001b[38;5;124;43mRange\u001b[39;49m\u001b[38;5;124;43m\"\u001b[39;49m\u001b[43m]\u001b[49m\u001b[43m,\u001b[49m\u001b[43m \u001b[49m\u001b[43mkind\u001b[49m\u001b[38;5;241;43m=\u001b[39;49m\u001b[38;5;124;43m\"\u001b[39;49m\u001b[38;5;124;43mcir\u001b[39;49m\u001b[38;5;124;43m\"\u001b[39;49m\u001b[43m,\u001b[49m\u001b[43m \u001b[49m\u001b[43mcolor\u001b[49m\u001b[38;5;241;43m=\u001b[39;49m\u001b[38;5;124;43m\"\u001b[39;49m\u001b[38;5;124;43m#4CB391\u001b[39;49m\u001b[38;5;124;43m\"\u001b[39;49m\u001b[43m)\u001b[49m\n",
      "File \u001b[1;32m~\\anaconda3\\lib\\site-packages\\seaborn\\axisgrid.py:2218\u001b[0m, in \u001b[0;36mjointplot\u001b[1;34m(data, x, y, hue, kind, height, ratio, space, dropna, xlim, ylim, color, palette, hue_order, hue_norm, marginal_ticks, joint_kws, marginal_kws, **kwargs)\u001b[0m\n\u001b[0;32m   2216\u001b[0m \u001b[38;5;66;03m# Validate the plot kind\u001b[39;00m\n\u001b[0;32m   2217\u001b[0m plot_kinds \u001b[38;5;241m=\u001b[39m [\u001b[38;5;124m\"\u001b[39m\u001b[38;5;124mscatter\u001b[39m\u001b[38;5;124m\"\u001b[39m, \u001b[38;5;124m\"\u001b[39m\u001b[38;5;124mhist\u001b[39m\u001b[38;5;124m\"\u001b[39m, \u001b[38;5;124m\"\u001b[39m\u001b[38;5;124mhex\u001b[39m\u001b[38;5;124m\"\u001b[39m, \u001b[38;5;124m\"\u001b[39m\u001b[38;5;124mkde\u001b[39m\u001b[38;5;124m\"\u001b[39m, \u001b[38;5;124m\"\u001b[39m\u001b[38;5;124mreg\u001b[39m\u001b[38;5;124m\"\u001b[39m, \u001b[38;5;124m\"\u001b[39m\u001b[38;5;124mresid\u001b[39m\u001b[38;5;124m\"\u001b[39m]\n\u001b[1;32m-> 2218\u001b[0m \u001b[43m_check_argument\u001b[49m\u001b[43m(\u001b[49m\u001b[38;5;124;43m\"\u001b[39;49m\u001b[38;5;124;43mkind\u001b[39;49m\u001b[38;5;124;43m\"\u001b[39;49m\u001b[43m,\u001b[49m\u001b[43m \u001b[49m\u001b[43mplot_kinds\u001b[49m\u001b[43m,\u001b[49m\u001b[43m \u001b[49m\u001b[43mkind\u001b[49m\u001b[43m)\u001b[49m\n\u001b[0;32m   2220\u001b[0m \u001b[38;5;66;03m# Raise early if using `hue` with a kind that does not support it\u001b[39;00m\n\u001b[0;32m   2221\u001b[0m \u001b[38;5;28;01mif\u001b[39;00m hue \u001b[38;5;129;01mis\u001b[39;00m \u001b[38;5;129;01mnot\u001b[39;00m \u001b[38;5;28;01mNone\u001b[39;00m \u001b[38;5;129;01mand\u001b[39;00m kind \u001b[38;5;129;01min\u001b[39;00m [\u001b[38;5;124m\"\u001b[39m\u001b[38;5;124mhex\u001b[39m\u001b[38;5;124m\"\u001b[39m, \u001b[38;5;124m\"\u001b[39m\u001b[38;5;124mreg\u001b[39m\u001b[38;5;124m\"\u001b[39m, \u001b[38;5;124m\"\u001b[39m\u001b[38;5;124mresid\u001b[39m\u001b[38;5;124m\"\u001b[39m]:\n",
      "File \u001b[1;32m~\\anaconda3\\lib\\site-packages\\seaborn\\utils.py:791\u001b[0m, in \u001b[0;36m_check_argument\u001b[1;34m(param, options, value)\u001b[0m\n\u001b[0;32m    789\u001b[0m \u001b[38;5;124;03m\"\"\"Raise if value for param is not in options.\"\"\"\u001b[39;00m\n\u001b[0;32m    790\u001b[0m \u001b[38;5;28;01mif\u001b[39;00m value \u001b[38;5;129;01mnot\u001b[39;00m \u001b[38;5;129;01min\u001b[39;00m options:\n\u001b[1;32m--> 791\u001b[0m     \u001b[38;5;28;01mraise\u001b[39;00m \u001b[38;5;167;01mValueError\u001b[39;00m(\n\u001b[0;32m    792\u001b[0m         \u001b[38;5;124mf\u001b[39m\u001b[38;5;124m\"\u001b[39m\u001b[38;5;124m`\u001b[39m\u001b[38;5;132;01m{\u001b[39;00mparam\u001b[38;5;132;01m}\u001b[39;00m\u001b[38;5;124m` must be one of \u001b[39m\u001b[38;5;132;01m{\u001b[39;00moptions\u001b[38;5;132;01m}\u001b[39;00m\u001b[38;5;124m, but \u001b[39m\u001b[38;5;132;01m{\u001b[39;00m\u001b[38;5;28mrepr\u001b[39m(value)\u001b[38;5;132;01m}\u001b[39;00m\u001b[38;5;124m was passed.\u001b[39m\u001b[38;5;124m\"\u001b[39m\n\u001b[0;32m    793\u001b[0m     )\n",
      "\u001b[1;31mValueError\u001b[0m: `kind` must be one of ['scatter', 'hist', 'hex', 'kde', 'reg', 'resid'], but 'cir' was passed."
     ]
    }
   ],
   "source": [
    "sns.jointplot(y=df[\"Car\"], x=df[\"Range\"], kind=\"cir\", color=\"#4CB391\")"
   ]
  },
  {
   "cell_type": "code",
   "execution_count": null,
   "id": "b4d8f83f",
   "metadata": {},
   "outputs": [],
   "source": []
  },
  {
   "cell_type": "code",
   "execution_count": null,
   "id": "12cd7168",
   "metadata": {},
   "outputs": [],
   "source": []
  }
 ],
 "metadata": {
  "kernelspec": {
   "display_name": "Python 3 (ipykernel)",
   "language": "python",
   "name": "python3"
  },
  "language_info": {
   "codemirror_mode": {
    "name": "ipython",
    "version": 3
   },
   "file_extension": ".py",
   "mimetype": "text/x-python",
   "name": "python",
   "nbconvert_exporter": "python",
   "pygments_lexer": "ipython3",
   "version": "3.10.9"
  }
 },
 "nbformat": 4,
 "nbformat_minor": 5
}
